{
 "cells": [
  {
   "cell_type": "markdown",
   "id": "b54ef575-e85c-457b-9b75-277d67aa47ac",
   "metadata": {},
   "source": [
    "## Import packages"
   ]
  },
  {
   "cell_type": "code",
   "execution_count": 1,
   "id": "10ac42b1-ee76-407c-bbf1-1a3dff9e6d7b",
   "metadata": {},
   "outputs": [],
   "source": [
    "from abc import ABC, abstractmethod\n",
    "from typing import List\n",
    "from PIL import Image\n",
    "import requests\n",
    "from transformers import AutoProcessor, AutoModelForCausalLM, ViltProcessor, ViltForQuestionAnswering\n",
    "import torch\n",
    "import torch.optim as optim\n",
    "import matplotlib.pyplot as plt\n",
    "from datasets import load_dataset\n",
    "import numpy as np\n",
    "import matplotlib.pyplot as plt\n",
    "from sklearn.decomposition import PCA\n",
    "\n",
    "from models.vilt import VILTModel\n",
    "from models.git import GitModel\n",
    "from trainer.singlemodeltrainer import Trainer\n",
    "from trainer.jointmodeltrainer import JointTrainer"
   ]
  },
  {
   "cell_type": "code",
   "execution_count": null,
   "id": "ef619c28-e766-428e-a8cf-f530b5863027",
   "metadata": {},
   "outputs": [],
   "source": []
  },
  {
   "cell_type": "code",
   "execution_count": null,
   "id": "395fb912-0388-4b8e-afb2-b2f7ac6de691",
   "metadata": {},
   "outputs": [],
   "source": [
    "device = \"cuda\" if torch.cuda.is_available() else \"cpu\""
   ]
  },
  {
   "cell_type": "code",
   "execution_count": null,
   "id": "133232b8-e2fd-418b-bd7a-8132c9747984",
   "metadata": {},
   "outputs": [],
   "source": []
  },
  {
   "cell_type": "code",
   "execution_count": 10,
   "id": "ac4cef4d-872d-4bcb-95ea-4d549f7216d6",
   "metadata": {
    "id": "cdT94td4eLYI"
   },
   "outputs": [],
   "source": [
    "url_eiffel = \"https://www.travelandleisure.com/thmb/SPUPzO88ZXq6P4Sm4mC5Xuinoik=/1500x0/filters:no_upscale():max_bytes(150000):strip_icc()/eiffel-tower-paris-france-EIFFEL0217-6ccc3553e98946f18c893018d5b42bde.jpg\"\n",
    "url_obama = \"https://upload.wikimedia.org/wikipedia/commons/thumb/8/8d/President_Barack_Obama.jpg/440px-President_Barack_Obama.jpg\"\n",
    "url_cat = \"http://images.cocodataset.org/val2017/000000039769.jpg\"\n",
    "url_lion = \"https://upload.wikimedia.org/wikipedia/commons/thumb/7/73/Lion_waiting_in_Namibia.jpg/1200px-Lion_waiting_in_Namibia.jpg\"\n",
    "url_dog = \"https://www.princeton.edu/sites/default/files/styles/1x_full_2x_half_crop/public/images/2022/02/KOA_Nassau_2697x1517.jpg?\""
   ]
  },
  {
   "cell_type": "code",
   "execution_count": 11,
   "id": "bdce849f-029c-474e-9dc0-c68c9de802b9",
   "metadata": {
    "id": "LButEG3BeN6U"
   },
   "outputs": [],
   "source": [
    "image = Image.open(requests.get(url_obama, stream=True).raw)\n",
    "image1 = Image.open(requests.get(url_cat, stream=True).raw)\n",
    "image2 = Image.open(requests.get(url_eiffel, stream=True).raw)\n",
    "image_dog = Image.open(requests.get(url_dog, stream=True).raw)"
   ]
  },
  {
   "cell_type": "code",
   "execution_count": 12,
   "id": "bce42e90-83f7-47ef-93bd-623597d64829",
   "metadata": {
    "colab": {
     "base_uri": "https://localhost:8080/",
     "height": 273,
     "referenced_widgets": [
      "d398dfc1f91348ed9bb8c2ecb62aabde",
      "a8fbabc237c04ae48e00cb604a5e2533",
      "87bde644ec8f417c87a0d76827275bc9",
      "32f4e53ce646405c9a5431ddf447ca8c",
      "824622e728e64fc593250bc3f2963c71",
      "36804e4fdde844e58070cfbc5f107eb0",
      "32cb0768ba1a43c4bef433ca2f3c4e9e",
      "e867b42c79bd4ec5b4f9aa71940fc544",
      "e4b4710c1a824659991e1708d1906e85",
      "b89da017fde64a71821f0e7402425d8c",
      "7eed7e8c53f2451ca9ed8723dea64da0",
      "194c3fcd7fa84734a05d75a49ecf64de",
      "a2b4d8ae6d98476289d788296ba15ae4",
      "48198261979849569e355ffed5f76110",
      "d7c82b35a8904083a54da531fdaeefe7",
      "a1763ae21e884a0c970152a613375984",
      "60b28164e4784e6bbd60dbb4d5fc06aa",
      "91749cc21cd54259bab6bf2b9fce8e55",
      "04db8f707e3c4b0797d65632b0a5280d",
      "b14dc464b00f460d9935f65318b3368c",
      "7a5ea467f9b446308a80d6f1de7bc756",
      "2788b71c07344645af5d89cb1a125d97",
      "755337728a394fa19e1c7fdc752c7516",
      "dea151cc648e43e0bc2ef60b241d7d5c",
      "57b7fe5f0ada4fb7aba513cd53cbed5c",
      "f37b397203664f5cb3602943351edb3f",
      "f6b69a896e70419c86892c8627413742",
      "83eefe3f7800484e87507f705b6e09ed",
      "bb5d9b8219594e1589b23cbdb299b46e",
      "80f0e53f5ee44a3295fb45d8777c7853",
      "ced6931e5f2541c2b8ec8eb2c57360c4",
      "3384f513f0f04e3d8a64df682961b8e6",
      "f31963f40f8642fb8aa3213999ec1872",
      "7f92f3c3ecc54618adc699692ac12994",
      "095e16e6ce994cd6bf76e4868b43d25e",
      "089bd44327de41ca8509a14ff2152891",
      "c5917f3b41c84b2c88b04c22a3b1cc3c",
      "903b8f34cf904c408fdabf3b218c68ea",
      "9200c3c051124764aa20f4bd3a5d2250",
      "792af593c8c54371bac4816f3351e1e9",
      "8c9d0e6d8ea14753bcd2761a3efb2fb5",
      "55804e7267d7487db6738adf83455330",
      "071400e5b1114a3ea75940a66152ca2b",
      "5e56ea3617f0437e98c07dd0ab502ead",
      "9fb3746b3d434540ae8e2a7b548810a8",
      "7215f0d4b1cf4567a0eef632bc4e9504",
      "ac7ef6fb5e384b92b0fbc6bda42ba948",
      "83359115afd646dfa3e7a33403110323",
      "194ff899763941ae9faa6328fa9fe76e",
      "5403882434f342658f3a376638393545",
      "2f834c7a134a43fab2b6aa6fdd58d827",
      "6fc4608657864921adf60ed8c2540750",
      "c750ba1b8f0d434098f9b792cff042e1",
      "d9cf8ebe49fe49e2a63b68d459aca038",
      "be71b0c8bb3d4b4da858fb0044618cb8",
      "10d0714f54a941289d6ea3795e6f15eb",
      "688d167d6a494139b5abef27ea53a24c",
      "e81517eb914c46fdb0419de77bfdb5d3",
      "aec9947eb501454ca60c534848e19d21",
      "38f819f4c19e412ab41916b39ae099a6",
      "21336c66ef5742a4b899cef8b5e6f557",
      "7e080dcd65094528bdd55de10fdb4335",
      "dec87c51e4de403883a3dbedde40a6df",
      "808f0ca8028f4afc8d2b6b7a4894fbf0",
      "2f687bd8d9454ce99fbee0290c3050c5",
      "7bb03f9b7d6e4ac9b162827fef3e48ca",
      "f48559024d524b60b9e388461966b1a6",
      "b0a2166ac4d64b1c931616640cc6b6df",
      "8ada3f2917484d04902dfe1cf43f88bc",
      "17f7903380564cbe8da662a78f46ebc3",
      "e3aa4fb487dd496b919fd9938862342e",
      "9ae1b06b79314d2d94990cd2fcc84def",
      "61cb3f16cf8845ad81754ce9d5889cef",
      "13d6dabfa4aa482288be9e6c8f70d5e1",
      "0a2bbb38c41d4f72862205f77b9fe099",
      "caf7bf72a59b4f85bde03739220d2f0b",
      "7b66d6c36dd548aca80db26c8a03dc00",
      "66f3dd72aa4148cda1751e60b1a88612",
      "2cf70e24b7be4507b631b396d5b6b10d",
      "9901db17df254c2fa136609728863950",
      "010b36154f9943c78ade1b8fe1bc0fc8",
      "c895894bdd634ded92dfb66b5dec2eb8",
      "a73dd5a0c3464a0da2ff4f1897467352",
      "df3d34b8084a4078a11433d2e7afbb33",
      "af5867b1dc084964a4cf3707825acc9a",
      "97d95a975a87481aa52cce62c189f999",
      "158fe5e9f22f4fb6bfa1468d09b2033d",
      "b7c595a849714423a06faecc35643068"
     ]
    },
    "id": "1yK0QQBVYPQe",
    "outputId": "47fd6e91-22b3-4987-d400-a8b434918bf3"
   },
   "outputs": [],
   "source": [
    "b = GitModel()\n",
    "b.target = \"cat\""
   ]
  },
  {
   "cell_type": "code",
   "execution_count": 13,
   "id": "f6ada1ec-3f09-4ca0-b649-5966f225995d",
   "metadata": {
    "colab": {
     "base_uri": "https://localhost:8080/",
     "height": 241,
     "referenced_widgets": [
      "e5a6db1b3adc437da316e273d1065bab",
      "f70c3a3326b1434cb0f56a4f62611d45",
      "410c8558b91f409492dca1e7d0839a9f",
      "f594dbc6b01d499b89af19d7b902044c",
      "f858698761d044d29e75fba0802936f7",
      "41066ec85cb64135b891d1e3a895412f",
      "5ca12f0f960b40fc9b1ff69c3a12fe8e",
      "d64fd7f7767349b7ac6ed03b0b2e81bf",
      "85db09e7ac64420887e1f70e8d41f5d4",
      "c5a5b3a88158451fada1414f046c8b2d",
      "de2b713270fb4a4db86b9f84d4688cf1",
      "86e45ed498844d2780c32098fe4349b3",
      "cc807152c56b4b1ba97e57c574a3f949",
      "7ed63ebb90aa499895fa8745af8ec9fc",
      "bb7bd40caf584e0eb729352aee03b682",
      "9e74a3e042d844ed87345fb3512b6ede",
      "ef96bc1be3c14441b3a512a91bc623a5",
      "e1cfe5b02590453eb056ae547319987c",
      "e9caf1d686334274ab90187cb8c94367",
      "f94ad8bc90254c8ebd7f25a31570ead7",
      "ea7a7e30cad44c8fba7a64c9c4b098c3",
      "3227fd0fdaf24635842a641078babf86",
      "297de9396a114cfcabe6194042fdba0d",
      "c48546c7155a473c98711551f698a7d3",
      "5059fd1c07f046778938ed44f612b8f9",
      "030a211ada654b64ac26dc7d6aab9f7d",
      "c0f6f94d5902426e9d43a96f05ed7f80",
      "c8d4b23c19854d64a90915ed1aad5045",
      "f25c206ac6074cdd9b5d12d5619524ea",
      "bfb044a029a04286bc9b8fef38215517",
      "7b4d4029755a471bab14bff0ce2e8ce3",
      "fa99a309e24844b582a739ca6e6f235d",
      "007b47655fc44bf39ad6c11ab2d8cb23",
      "c40a93fbd5cf4dc6acbba653befac8c7",
      "5dbe3a53170a4384807b534c3962c23a",
      "56047c02cf0445b0814d9566491a6ed5",
      "d607e7fef07242ae9177d067cd56700b",
      "420037da46e24236b45e22b2acf71d6d",
      "9c6c23cede644904b7ca22725c34ec58",
      "c4bd21ce58c946adbda2f29dde478159",
      "8bf209d1e8c94969a6c9485f85de3f4a",
      "e2cff74fcfac4e4da3be22ab55d4c0db",
      "d09cdc86d82a4851b548552ca984df2a",
      "4e48de4d32aa4f47999aaa569d3c76dc",
      "a50f67a88f1b46e2a47231d8cd13c299",
      "2c03ad28885748a4b343ce8cb098522a",
      "f72512ccecb6400c8618c74dd12b2885",
      "176a55ffe27c415888c479ef37504e92",
      "548a1e8c948b4753a52fcfc3644ea33f",
      "f5344cf2a3b0457cb8ae04dc2b3811f8",
      "946e1a022e8144c5a39695c1546fae4d",
      "583a8eff7c664001ba1e3a7fd2dcbcd4",
      "6a66fd2624b94a12b59529d145c62660",
      "039c34a827914aedbdeb047aca62c3cd",
      "7590926d8429403cbfeb456e0d22b624",
      "3597a01f5c9b410cb15d959d732c03fa",
      "59973b5892cd4eb4a2e263643f151fba",
      "3fa97e4543d3483ba4cb741d966c9627",
      "40d9b8eab7ca4f4abbcf243e755ecbb1",
      "7b15b3d3c2474403a746780cf8e26af8",
      "f281b33ecc78410a89bafbec044acc75",
      "245cdf83e0454dab9cc7953caca2227f",
      "b892a40aa1a048d6bd8458f6da347806",
      "fc5651ead33047088aa76338d640ef36",
      "f3ebcc55417141e7ad239f248a71fdad",
      "529ddea3c0324f19923a51736a74d3e2",
      "c40123a50b49472986daf77c7f868836",
      "06f5df149f8b47229ff805a57ee7c38b",
      "5ecf1bb926014dcda604859cc4a3b0bc",
      "1f83f0ed168c47c29758dffdc0f7411e",
      "e0ac9f2551fe40c4820e58f806cb9e25",
      "b95456d560ad4388beebca59c60bd4f5",
      "523012f08931435c926cce1b97578a1e",
      "6b6dae9236c242ceb31026ca5593f625",
      "9aaf3001d44a416a9a3cd23a4a84f1c5",
      "7eaaf17b1b0145749475ed49efa2f97b",
      "9dd3a172df084aa5951ca0e3ddfdd290"
     ]
    },
    "id": "MThVLgsC9Mx_",
    "outputId": "137ea88a-bdce-44cb-ae0a-a43f329b9cab"
   },
   "outputs": [],
   "source": [
    "a = VILTModel()\n",
    "a.target = \"cat\""
   ]
  },
  {
   "cell_type": "code",
   "execution_count": 14,
   "id": "5e8c789c-e167-4538-9148-516a2b164a65",
   "metadata": {
    "id": "zu37fqTHfQhD"
   },
   "outputs": [],
   "source": [
    "t1 = Trainer(model = a, images=[image_dog], texts=[\"Wat animal is in the image?\"],  epochs=100)"
   ]
  },
  {
   "cell_type": "code",
   "execution_count": 15,
   "id": "e2fe950e-8d56-4b68-8fe1-7de677e6f1e9",
   "metadata": {
    "id": "-KO_EAt_qV3O"
   },
   "outputs": [],
   "source": [
    "t2 = Trainer(model = b, images=[image_dog], texts=[\"Wat animal is in the image?\"], epochs=500)"
   ]
  },
  {
   "cell_type": "code",
   "execution_count": 16,
   "id": "afeb4fe7-9768-433e-be51-224a67615119",
   "metadata": {
    "id": "Y1FDJUyk9QAU"
   },
   "outputs": [],
   "source": [
    "t3 = JointTrainer(models=[b, a], images=[image_dog], texts=['Wat animal is in the image?'], epochs=50)"
   ]
  },
  {
   "cell_type": "code",
   "execution_count": 17,
   "id": "3d0db833-e94d-4807-9a4e-17c904397613",
   "metadata": {
    "colab": {
     "base_uri": "https://localhost:8080/",
     "height": 49,
     "referenced_widgets": [
      "e1736255facf47d4856a1508a0dc5a69",
      "22e2f598b28d4fd8b52d21ee3d185431",
      "3a638f91d401486a8117c8c3374e05a7",
      "b626ad5b3111483585241dc6e511a900",
      "67c7c11393f049b6b9f38b033e96d778",
      "bf8ae3beac8145c8aac2ccdaa7eda8e8",
      "cf15f6e0111a4a69a95c9f84401722e0",
      "fdcba0cc312b4478a97827543796daa4",
      "40d6059192ff4e7386201d53e75532ae",
      "d9e6c963f8ad4e6e84fb048e84bf78c2",
      "2cf2ba2fad7b476ab28b2c0289beb10c"
     ]
    },
    "id": "OT_xLNXbad5f",
    "outputId": "2a16b94d-b5ad-4f59-8e9f-1e2b5820ad08"
   },
   "outputs": [
    {
     "data": {
      "application/vnd.jupyter.widget-view+json": {
       "model_id": "05b3b8e9343843d085124f9477bc68aa",
       "version_major": 2,
       "version_minor": 0
      },
      "text/plain": [
       "  0%|          | 0/100 [00:00<?, ?it/s]"
      ]
     },
     "metadata": {},
     "output_type": "display_data"
    }
   ],
   "source": [
    "from tqdm.auto import tqdm\n",
    "\n",
    "res_joint = t1.train()\n",
    "change, img = res_joint"
   ]
  },
  {
   "cell_type": "code",
   "execution_count": 18,
   "id": "77b26e98-7e59-409d-9da4-5defd9fe0c9e",
   "metadata": {
    "colab": {
     "base_uri": "https://localhost:8080/",
     "height": 140,
     "referenced_widgets": [
      "aab14aecdc734b42b711cacd43302bce",
      "f84d24b2091b4053aa5e210e4fa3339c",
      "da295daeb80e4437a59429f12ee543b3",
      "d08e8cd122f5417ebc8060d591cfa973",
      "02be78d195734f52b0f61562b612259b",
      "fde4ae2b6f774d1b8f47467e1b23d5db",
      "f436997ba1294bcf9a8bfeced1f68dfe",
      "1d464136d80249f79bf309b8a5faa407",
      "42f477a5f69147678f66cbc7e1f2c322",
      "4198fa307eec4eaeb63182001fd2d6f0",
      "07408179e42a45eb936936754a070517"
     ]
    },
    "id": "xnKZsPyo_8Pp",
    "outputId": "8cc70516-0f2b-4ca6-db1d-f525a5ad921b"
   },
   "outputs": [
    {
     "name": "stderr",
     "output_type": "stream",
     "text": [
      "<ipython-input-6-924d98bb0882>:46: UserWarning: To copy construct from a tensor, it is recommended to use sourceTensor.clone().detach() or sourceTensor.clone().detach().requires_grad_(True), rather than torch.tensor(sourceTensor).\n",
      "  labels = torch.tensor(labels).unsqueeze(0).to(device)\n"
     ]
    },
    {
     "data": {
      "application/vnd.jupyter.widget-view+json": {
       "model_id": "ef2ddd01a598456d8988245fa01f70a0",
       "version_major": 2,
       "version_minor": 0
      },
      "text/plain": [
       "  0%|          | 0/500 [00:00<?, ?it/s]"
      ]
     },
     "metadata": {},
     "output_type": "display_data"
    },
    {
     "name": "stderr",
     "output_type": "stream",
     "text": [
      "<ipython-input-6-924d98bb0882>:24: UserWarning: To copy construct from a tensor, it is recommended to use sourceTensor.clone().detach() or sourceTensor.clone().detach().requires_grad_(True), rather than torch.tensor(sourceTensor).\n",
      "  labels = torch.tensor(labels).unsqueeze(0).to(device)\n"
     ]
    }
   ],
   "source": [
    "from tqdm.auto import tqdm\n",
    "\n",
    "res_joint = t2.train()\n",
    "change, img = res_joint"
   ]
  },
  {
   "cell_type": "code",
   "execution_count": 19,
   "id": "3260809c-1a14-45b5-b7b1-52779aeff4bc",
   "metadata": {
    "colab": {
     "base_uri": "https://localhost:8080/"
    },
    "id": "hcR7mpzo0TI1",
    "outputId": "027a831a-4de5-41bb-d9b9-c0eeac99119f"
   },
   "outputs": [
    {
     "data": {
      "text/plain": [
       "tensor(-0.0610, device='cuda:0', grad_fn=<MinBackward1>)"
      ]
     },
     "execution_count": 19,
     "metadata": {},
     "output_type": "execute_result"
    }
   ],
   "source": [
    "change.min()"
   ]
  },
  {
   "cell_type": "code",
   "execution_count": 21,
   "id": "265d2cbe-22fe-4531-a141-70b6c922b591",
   "metadata": {
    "colab": {
     "base_uri": "https://localhost:8080/",
     "height": 35
    },
    "id": "IKpLm-PoboV_",
    "outputId": "b5d7574a-e7d8-44ab-b788-f7027e29abd9"
   },
   "outputs": [
    {
     "data": {
      "text/plain": [
       "'Wat animal is in the image?yes'"
      ]
     },
     "execution_count": 21,
     "metadata": {},
     "output_type": "execute_result"
    }
   ],
   "source": [
    "a.generate_answer('Wat animal is in the image?', img)"
   ]
  },
  {
   "cell_type": "code",
   "execution_count": 22,
   "id": "fff5bfab-31c3-4264-89e1-0b813df727ea",
   "metadata": {
    "colab": {
     "base_uri": "https://localhost:8080/",
     "height": 49,
     "referenced_widgets": [
      "1b3d6ce2be2b41c1ba0d233f3157cb13",
      "1b2b770f7e384276865b7a199204c785",
      "4fbe72631c4f4213ba063053e1f0a560",
      "8dcfe45996b44232865e1b0572449ffa",
      "69c7f8cd27514166ac57b687e09e50c9",
      "24fc042e74b54287ade0491b83bd4301",
      "2897e41c42b4493b906ac6428ead2d46",
      "fe16212ad4984bc98af693b3d5c3946d",
      "12435ea158af47668a55be1ae1f253db",
      "25a81cadd3204fc7aa92012431113b77",
      "c878f9d7a1d44a52859b876eb5822d6b"
     ]
    },
    "id": "rCyWZkwjlTcs",
    "outputId": "48b6278a-19cc-49bd-9c04-7c2ddfe3bbbd"
   },
   "outputs": [
    {
     "data": {
      "application/vnd.jupyter.widget-view+json": {
       "model_id": "38d159eacdd14b3186bac8e574e067fd",
       "version_major": 2,
       "version_minor": 0
      },
      "text/plain": [
       "  0%|          | 0/100 [00:00<?, ?it/s]"
      ]
     },
     "metadata": {},
     "output_type": "display_data"
    }
   ],
   "source": [
    "res_git = t1.train()\n",
    "change, changed_image = res_git"
   ]
  },
  {
   "cell_type": "code",
   "execution_count": 23,
   "id": "6c08a991-247a-4904-8819-54fe1599dcb2",
   "metadata": {
    "colab": {
     "base_uri": "https://localhost:8080/",
     "height": 140,
     "referenced_widgets": [
      "d784aff9f35f40c9a5d78bf89a6446d7",
      "fe90bdbabf5f484a9120d0b1a3ce49cd",
      "0cba910d8b114e949baac8face015302",
      "eaf56c6dc626495792afa076079aaf10",
      "6d27f86956e84798b2dc4a839f86c8ce",
      "03be3c40ab8f4e81a1019d9530a189ae",
      "59beff1e2ecc48a891a772ba15a67ba9",
      "286c9ca521024dbbbb189b9ec259952f",
      "7dbe4fdc84494bb39bd603bb26b9e2d5",
      "ff2fcfb1c8104399bd925160c459c678",
      "9e4425c1763c4ee48db1f395c41c98c2"
     ]
    },
    "id": "lCwePnFy9T45",
    "outputId": "910cdd54-58a7-4df6-b57d-dad884b1b91a"
   },
   "outputs": [
    {
     "name": "stderr",
     "output_type": "stream",
     "text": [
      "<ipython-input-6-924d98bb0882>:46: UserWarning: To copy construct from a tensor, it is recommended to use sourceTensor.clone().detach() or sourceTensor.clone().detach().requires_grad_(True), rather than torch.tensor(sourceTensor).\n",
      "  labels = torch.tensor(labels).unsqueeze(0).to(device)\n"
     ]
    },
    {
     "data": {
      "application/vnd.jupyter.widget-view+json": {
       "model_id": "baae76de07444eb6ac9900e8a2992384",
       "version_major": 2,
       "version_minor": 0
      },
      "text/plain": [
       "  0%|          | 0/500 [00:00<?, ?it/s]"
      ]
     },
     "metadata": {},
     "output_type": "display_data"
    },
    {
     "name": "stderr",
     "output_type": "stream",
     "text": [
      "<ipython-input-6-924d98bb0882>:24: UserWarning: To copy construct from a tensor, it is recommended to use sourceTensor.clone().detach() or sourceTensor.clone().detach().requires_grad_(True), rather than torch.tensor(sourceTensor).\n",
      "  labels = torch.tensor(labels).unsqueeze(0).to(device)\n"
     ]
    }
   ],
   "source": [
    "res_vilt = t2.train()\n",
    "change, changed_image = res_vilt"
   ]
  },
  {
   "cell_type": "code",
   "execution_count": null,
   "id": "43d2438e-2125-4272-a272-335d4def4ea4",
   "metadata": {
    "colab": {
     "base_uri": "https://localhost:8080/",
     "height": 471
    },
    "id": "Roc54oynCeeG",
    "outputId": "7ffbebbf-961e-4046-c1a8-69a26c6a07c0"
   },
   "outputs": [],
   "source": [
    "plt.imshow(img[0].detach().cpu().numpy().transpose(1, 2, 0))"
   ]
  },
  {
   "cell_type": "code",
   "execution_count": null,
   "id": "eb47d8a3-76b3-4a8f-ab62-9584947acd60",
   "metadata": {
    "colab": {
     "base_uri": "https://localhost:8080/",
     "height": 35
    },
    "id": "eewJPwmt28yg",
    "outputId": "bc10b5d9-2f59-43e4-da74-6aac2ea38a39"
   },
   "outputs": [],
   "source": [
    "a.generate_answer(\"What animal is in the image?\", changed_image)"
   ]
  },
  {
   "cell_type": "markdown",
   "id": "b8862561-bf64-4ad9-adcf-2a93de379fec",
   "metadata": {},
   "source": [
    "## Load MS-COCO dataset for training adversaries"
   ]
  },
  {
   "cell_type": "code",
   "execution_count": null,
   "id": "1466491d-4cd3-424c-945a-d3152543adb5",
   "metadata": {
    "colab": {
     "base_uri": "https://localhost:8080/",
     "height": 433,
     "referenced_widgets": [
      "98c9280f0edb4e5a83d0b19f6df54827",
      "3209e9e29d094f0ca75123cddcdd23fc",
      "30add5d5c32c416fb5298f99049d6cf8",
      "f926965165f24dfbbcfe899a74b7013e",
      "661e94079630467fafd0a200018b8686",
      "e33c3ee92c6a40358f1a32861ed0747c",
      "0bdd6eee20944d5ca6da3f964ae27538",
      "be7586d5521540af9f0000e3a8d9981c",
      "175de775550b4da29833eb6040addf94",
      "4be3ac29c8b34a28a1aeae182bb6ba98",
      "473cd26d0190480c83bf59fd1f7192bd",
      "27432d391c544b54be49e00b8bb08947",
      "f3d87841fe1149deb5f583c848d1ec88",
      "4ded473a69a6459bb970a5cba85fd1f7",
      "eb5d14be7a4c40d6a67b192c95b7fe89",
      "42516f1e37264d0884212799b63c753b",
      "bece3d9adb6c47838c8bd78348ba421a",
      "83a34e7463564c1f8e75e8a1c126290e",
      "17db5477716a43a28bf2d9bd2def3caa",
      "1bf04da8c0704b9081d7737d42551ae3",
      "5b07f4809637424a9c0d829ad738dce3",
      "fc88f7f4061b4c819e16f9d1bd07ccc2",
      "78e16d18b36a47d6a5f301a00c2d3c48",
      "c3ae1c0e8c844c6298ea259e117a206d",
      "5c9b68cc58c94a479fcad0d7a0f0cf3b",
      "4b3e65996555464ab766cf569fdbb5c3",
      "94bea7820f114e88988cb5918a174573",
      "fa92c73ae31f49ae8195c31d4c8e06e3",
      "b2036c87f30b47fb8be1128464d7d448",
      "132de05b05cc4b2fb220623ad4e22bdc",
      "2e61f5abeadb418190991b52ebb48f0b",
      "01ffcdee3c3d4a22a11dca3b9d92396f",
      "9ad98b7743a141b9ae757c285824bb04",
      "adf3ffcbaa83444b93fdc41731f97b8d",
      "b30c82ab4ad8437caecb517d60e799e7",
      "dbc038cadcab4df38bede0692692921f",
      "7e1bfb8a942347a483327307b30f0b99",
      "51a5d2e0a97a4e02bc6d2e8bdb7a379b",
      "73a39990d86940aa918f390a271390fc",
      "f2614b34bdc343f2b6d870e7b22f8954",
      "740b83a1da60411bb328492389e44911",
      "644089e970c64cd0b9b8fe9f363c8c9d",
      "d4ccb2864ad14ef093f1aac3e88d693e",
      "bef8fd8ad7c3494abd24311578bb5fcb",
      "f1628f33e3424288801608d0cc36a62b",
      "4583b3c8c15649efa3827505a2a9c82a",
      "aa685082bbde47fc9a3be9751eed93cb",
      "6eb6ca9a96c6450d97e9a8ab8154f182",
      "1af8b8849f71455c81f8fdd8e688149b",
      "c869523f92f844f8b0b2d863d4229f10",
      "fe06ae6fe04d46b59b3e70be3351b7f7",
      "96c63e098cf54966b7df69f473af0f7f",
      "9dfe1f4be57943769bc8cda8e529ba4f",
      "1c84e34913e44a51b31b724c64a16fac",
      "69dfbc5fec624176a1ee67339825f609",
      "954c05442b084ffba40951c455a86f1f",
      "9d97da6580904aea8988d5998a2b99d7",
      "35e6f76db68b48a388d9dba4d3c9b474",
      "5052a2af24cd4fbbab94379583776c85",
      "450e4a11d46e4ec6ba2cf4ecfd1d0155",
      "d63387acefcb4154aafca3b2988b2ba9",
      "64a6d990c272463db855f8c15910eef3",
      "10806fcf2c764146841c8c0625f7692e",
      "03135792bad84ee78749f0ae13d344ba",
      "089566bbb3bc46f6909a13a481d0b1be",
      "a479936dc3f44afc8cce0e574793b07a",
      "236b77c83a584415a3c03dc2eecb69c2",
      "32ed7d34b8094e79bd8c0ba10b5612ce",
      "10a75b9918ec4f2090d33774bb72013d",
      "7c3f167b20f24d229e5e038313e4a5ae",
      "20cb42b9dff140b596bc26e9c4c23885",
      "891ff04e775745e4a02a75e32c642f51",
      "774651702a1543e68b28efcb1e2b83a0",
      "8ed5db09586540ee8174e1b74599e50b",
      "f5514bb222a949f8bf4beb6aad91f796",
      "de5e7debd53043d18cd19cdc23c2fced",
      "b4766387311a490f9c631bf3aa3da584",
      "9b511844b7fb46dda958a8142b21475a",
      "9f183386dc02490ea7bee2a3145c2c5e",
      "84a395a495bf4d42a2ae0441e8679a16",
      "cedad8e164644c259e897b5b5956ff74",
      "4ad150c9221d46688b962d6d88a30857",
      "ab4b5101912c40599ec5db3268efc719",
      "32844c9868444acaa523fdba7860ff1e",
      "23ee4b033f864413be0e36ed38470534",
      "8c8d39d00fbe43e99b19321205caaa70",
      "289ff6c100d344b284240940fc8f7630",
      "43318cf1cba747e68bf61f1735b91242",
      "9ccbc1abe8e443449c13c0d7fd11d279",
      "f00a54f275b944c3bdfaf0759cb2282d",
      "36a6cc7495fd444fa8570983f6d6126b",
      "e911973f012c4f25b3997e5df343f9ec",
      "7b43b7fc60944920954c457f4d9aaa9e",
      "eda73d32aaaa4f20ac4c2620c94fe1d7",
      "41c80b9f70834fa5a7897d5639f6701d",
      "533b1024dae346b0948e5fe92f100a4e",
      "ca0cc57de8f641b7a3a391cd84fc1909",
      "3fb92a6a827d4aa9953f81eb114dd391",
      "288429ca30424f7cbf3a7a07cf9ae3e9",
      "82edbe9f617a485ca96df34560a03441",
      "e9383d128d46427787e96de3fe1d22b8",
      "4aa721dd66714eb587f6b8eec0685115",
      "2030accd2fe94dc1ae203ae1054e2cf4",
      "93df68b7b0dd4ed3bbae144e08fcf7f9",
      "3459e2cb72654ce39116d7fc24b1dc25",
      "db148ca2ca35437ead9c7d991f3a38fa",
      "e421b162951646a7bf7871deb1570cbe",
      "744b3a2b64064fbfb0a3519ff0de3286",
      "2822a2c77be04e918304ed84bde265a3",
      "a9f9556d4a894faba572a03c0ffc0132",
      "f48d1177819d4269a71ee5651fbb866a",
      "973ea8371289492a9c78c7c756289114",
      "7d9b84b079ca42e3a4a94a7a4fe687b2",
      "eb6634cc572c4f818fd7fc40a2466055",
      "4bf344fbf6b44f6788b855e3575dfa29",
      "a31f86119ead41b59147c7237baac05f",
      "c2e1b7edadf6453a9e86689d8a72ccaf",
      "3a5848a7041e444eb4c57c0cb733c52e",
      "5882c1caa7d74755aedcdc40189d80c5",
      "5825918c3814486e82b84bc2892cbca3",
      "213ef75271b84c17b366062472228df5",
      "ea867810717340cab1292c07f7ea3bab",
      "e7390ebc100848c088328b6d9d4d39d7",
      "c9ab799ac05441c6aa8821f3474b92dc",
      "4bbfe634c511462bad7655d141f1973d",
      "1315c2c8d8b440beb6fbcdb1d7eb2989",
      "88e8f4f913ca49798b5ac05dea7a988f",
      "5261035ec4524dda9005b833c09cf76f",
      "8e5fbabbb77846eba8fdd17babfe29ad",
      "ba64ba56c00c48d2b6a7896cf2bad3f5",
      "cfd2afb933b148378001686b57c7006a",
      "3b28214ef8114168abee21b6712c67c7",
      "b9ca881b21d0440bad1dc68d5a6b3701",
      "95cfb2a87eba4451a4e0dc782ec9ac6e",
      "2bb1a8fed2c946ef877d1f0f04b66050",
      "6ce5c91990bc4390a716a866f21d474c",
      "1b9f02d4eab243d6aae32bcb0c47848a",
      "17fbdeb6ceaa47188223dd8c83a1146f",
      "7872e9e5c2814a99bc909342290c6b15",
      "0cec9cb6c1294f4aa059891758b26c0a",
      "af53e93259c54116a6c30dbbda0a9145",
      "1b2b551825334b04b183ae3115ce069b",
      "5b9d3855eb204de7ad3aa14f8b9122a0"
     ]
    },
    "id": "wxJkaBa_e-P0",
    "outputId": "51d08ccb-acc2-4647-8856-78392b366dd4"
   },
   "outputs": [],
   "source": [
    "dataset = load_dataset(\"RIW/small-coco\", split=\"train[100:200]\")"
   ]
  },
  {
   "cell_type": "code",
   "execution_count": null,
   "id": "7eaf531b-fdf4-4362-86ac-b368b8f53514",
   "metadata": {
    "id": "r_gz6T9xfAM4"
   },
   "outputs": [],
   "source": [
    "t = Trainer(\n",
    "    model = a,\n",
    "    images=[image1],\n",
    "    texts=[\"What is the color of the sky?\", \"Is green the same as black?\"], epochs=200)"
   ]
  },
  {
   "cell_type": "markdown",
   "id": "a9f838a5-de2d-42ba-83c1-9378147445fc",
   "metadata": {
    "colab": {
     "base_uri": "https://localhost:8080/"
    },
    "id": "TTpgtdfeZY9K",
    "outputId": "96f73d91-4bd1-4567-be65-ab8398712d3c"
   },
   "source": [
    "## Train adversaries with ViLT + GIT models"
   ]
  },
  {
   "cell_type": "code",
   "execution_count": null,
   "id": "8ee5ed9e-4602-423b-a8bc-dc32604e6bc6",
   "metadata": {
    "colab": {
     "base_uri": "https://localhost:8080/",
     "height": 1000,
     "referenced_widgets": [
      "b909a504463041a9be8d7c9c9a8427ad",
      "f2e7db33080e4df383c2be36db065b64",
      "ca8cccf749c34153bb3d706d18935bfc",
      "defd63f3a8f34b7ea1aee48413e82115",
      "fa65fc2e073841f98fdaec0863ec4f76",
      "3f47c4391f264a4aa12bc16938c48de9",
      "e00f56e2cdc541548927d21050c6e2d5",
      "669f4aeefde846a3be849069053103b5",
      "837a6d90efcb4bda9c951ee11c55cc59",
      "4630bc88b4fc45e2ad65813ceb905abb",
      "934bae2979ae4f9694e8ad22b56f1e73"
     ]
    },
    "id": "gB7wCNOxULkN",
    "outputId": "25acce9b-29d2-4b7f-96dd-528c27f90faf"
   },
   "outputs": [],
   "source": [
    "num_epochs = 50\n",
    "delta = 0.05\n",
    "# Sample 20 random indices\n",
    "# sampled_indices = random.sample(range(len(dataset['train'])), num_image_samples)\n",
    "# Extract the sampled points from the dataset\n",
    "# sampled_data = [dataset['train'][index] for index in sampled_indices]\n",
    "\n",
    "adversaries = []\n",
    "deltas = []\n",
    "from tqdm.auto import tqdm\n",
    "for sample in tqdm(dataset):\n",
    "  print(sample)\n",
    "  t = JointTrainer(\n",
    "      models=[b, a],\n",
    "      images=[sample['image']],\n",
    "      texts=['Wat animal is in the image?'],\n",
    "      epochs=num_epochs,\n",
    "      delta = delta\n",
    "    )\n",
    "  change, image = t.train()\n",
    "  deltas.append(change)\n",
    "  adversaries.append(image)"
   ]
  },
  {
   "cell_type": "markdown",
   "id": "3da6168e-787c-4726-a1d2-9e9336cd2294",
   "metadata": {},
   "source": [
    "## Train adversaries with GIT model"
   ]
  },
  {
   "cell_type": "code",
   "execution_count": null,
   "id": "90100b35-2dfc-44a0-8a07-25ac736c2f91",
   "metadata": {
    "id": "JP8dJvvbB7Bs"
   },
   "outputs": [],
   "source": [
    "num_epochs = 50\n",
    "delta = 0.05\n",
    "adversaries_git = []\n",
    "deltas_git = []\n",
    "from tqdm.auto import tqdm\n",
    "for sample in tqdm(dataset):\n",
    "  print(sample)\n",
    "  t = Trainer(\n",
    "      model=b,\n",
    "      images=[sample['image']],\n",
    "      texts=['Wat animal is in the image?'],\n",
    "      epochs=num_epochs,\n",
    "      delta = delta\n",
    "    )\n",
    "  change, image = t.train()\n",
    "  deltas_git.append(change)\n",
    "  adversaries_git.append(image)"
   ]
  },
  {
   "cell_type": "markdown",
   "id": "845109b7-3fa2-4848-a7f9-66e2acc97a77",
   "metadata": {},
   "source": [
    "## Train adversaries with ViLT model"
   ]
  },
  {
   "cell_type": "code",
   "execution_count": null,
   "id": "6a026325-0b21-4735-9467-87fa9d6a2f6b",
   "metadata": {
    "id": "3liw5n3yKOZu"
   },
   "outputs": [],
   "source": [
    "num_epochs = 50\n",
    "delta = 0.05\n",
    "adversaries_vilt = []\n",
    "deltas_vilt = []\n",
    "from tqdm.auto import tqdm\n",
    "for sample in tqdm(dataset):\n",
    "  print(sample)\n",
    "  t = Trainer(\n",
    "      model=a,\n",
    "      images=[sample['image']],\n",
    "      texts=['Wat animal is in the image?'],\n",
    "      epochs=num_epochs,\n",
    "      delta = delta\n",
    "    )\n",
    "  change, image = t.train()\n",
    "  deltas_vilt.append(change)\n",
    "  adversaries_vilt.append(image)"
   ]
  },
  {
   "cell_type": "code",
   "execution_count": null,
   "id": "c8a3f988-8e86-4757-bb9c-61c75bc5a96d",
   "metadata": {
    "colab": {
     "base_uri": "https://localhost:8080/"
    },
    "id": "V6t-EaBO-vO4",
    "outputId": "f42c3853-d9ef-46fe-cfa1-2513bf696630"
   },
   "outputs": [],
   "source": [
    "from google.colab import drive\n",
    "drive.mount('/content/drive')"
   ]
  },
  {
   "cell_type": "code",
   "execution_count": null,
   "id": "617670a5-0086-46c1-924d-ec80bc226729",
   "metadata": {
    "id": "Nne9iXl4Aztd"
   },
   "outputs": [],
   "source": [
    "torch.save(adversaries,'/content/drive/MyDrive/capstone/adversaries.pt')\n",
    "torch.save(deltas,'/content/drive/MyDrive/capstone/delta.pt')"
   ]
  },
  {
   "cell_type": "code",
   "execution_count": null,
   "id": "9fcf9927-99fc-46c0-9b38-5caf5a3d2c56",
   "metadata": {
    "id": "CuPH4Y4oJkyy"
   },
   "outputs": [],
   "source": [
    "torch.save(adversaries_git,'/content/drive/MyDrive/capstone/git/adversaries_git.pt')\n",
    "torch.save(deltas_git,'/content/drive/MyDrive/capstone/git/delta_git.pt')"
   ]
  },
  {
   "cell_type": "code",
   "execution_count": null,
   "id": "8f650d35-3afb-4a9a-a6d6-859065b24c4e",
   "metadata": {
    "id": "UXP4ht0GKo7B"
   },
   "outputs": [],
   "source": [
    "torch.save(adversaries_vilt,'/content/drive/MyDrive/capstone/vilt/adversaries_vilt.pt')\n",
    "torch.save(deltas_vilt,'/content/drive/MyDrive/capstone/vilt/delta_vilt.pt')"
   ]
  },
  {
   "cell_type": "code",
   "execution_count": null,
   "id": "f74d67bb-1726-4415-b33b-166ab7083d95",
   "metadata": {
    "colab": {
     "base_uri": "https://localhost:8080/"
    },
    "id": "RJPbTpv1-53C",
    "outputId": "fb852251-7ae0-4da2-ff66-fd7bb5a28716"
   },
   "outputs": [],
   "source": [
    "b.generate_answer('Wat animal is in the image?',)"
   ]
  },
  {
   "cell_type": "code",
   "execution_count": null,
   "id": "230f76fb-dd0f-41ec-bd64-bff16b424f5c",
   "metadata": {
    "id": "1JtipN67KCQf"
   },
   "outputs": [],
   "source": [
    "for x in deltas_vilt:\n",
    "  print(x.min())"
   ]
  },
  {
   "cell_type": "markdown",
   "id": "2c27e4ca-605c-4373-978b-c573b7cbbb95",
   "metadata": {},
   "source": [
    "## L2 Norm of adversaries"
   ]
  },
  {
   "cell_type": "code",
   "execution_count": null,
   "id": "f7e1c164-d6c7-4f52-af8b-b1be20c8e181",
   "metadata": {
    "id": "3pkH9jJXmsyE"
   },
   "outputs": [],
   "source": [
    "import matplotlib.pyplot as plt\n",
    "delta_norm = [torch.norm(delta1).detach().cpu().numpy() for delta1 in deltas]\n",
    "delta_norm_git = [torch.norm(delta1).detach().cpu().numpy() for delta1 in deltas_git]\n",
    "delta_norm_vilt = [torch.norm(delta1).detach().cpu().numpy() for delta1 in deltas_vilt]"
   ]
  },
  {
   "cell_type": "code",
   "execution_count": null,
   "id": "91b8ae32-b571-4690-8691-421167395e8b",
   "metadata": {
    "colab": {
     "base_uri": "https://localhost:8080/"
    },
    "id": "Ll8iLPkjM-q6",
    "outputId": "aa9100e4-989a-4f9c-d8eb-c1db5e6d1342"
   },
   "outputs": [],
   "source": [
    "len(delta_norm_vilt)"
   ]
  },
  {
   "cell_type": "code",
   "execution_count": null,
   "id": "e79207d8-2296-48d5-8528-efeccc271295",
   "metadata": {
    "colab": {
     "base_uri": "https://localhost:8080/",
     "height": 472
    },
    "id": "CXuKXoEyMrGv",
    "outputId": "cb1a79bf-d3cb-40c3-e72c-107aa40ca242"
   },
   "outputs": [],
   "source": [
    "fig, ax = plt.subplots(1, 1)\n",
    "ax.hist(delta_norm,  label='Joint')\n",
    "ax.hist(delta_norm_git, label='GIT')\n",
    "ax.hist(delta_norm_vilt,  label='VILT')\n",
    "\n",
    "ax.set_xlabel('l2 norm adversarial perturbation')\n",
    "ax.set_ylabel('density')\n",
    "plt.title('Histogram of l2 norm of adversarial perturbations')\n",
    "plt.legend()\n",
    "plt.savefig('histogram.png')"
   ]
  },
  {
   "cell_type": "code",
   "execution_count": null,
   "id": "4e80c39c-a347-408e-b4fe-4758d60f315e",
   "metadata": {
    "id": "N0V2IMoFDZ0E"
   },
   "outputs": [],
   "source": [
    "dummy_img = a.preprocess_image(image1)"
   ]
  },
  {
   "cell_type": "markdown",
   "id": "2508aa5e-21c4-47a0-b108-2518bd42fb6f",
   "metadata": {},
   "source": [
    "## Visualizing embeddings of adversary and original images in visual encoder embedding space"
   ]
  },
  {
   "cell_type": "code",
   "execution_count": null,
   "id": "5fe2346e-e62f-483c-b67a-02ee48202838",
   "metadata": {
    "id": "nsGJbuKHOPy3"
   },
   "outputs": [],
   "source": [
    "def plot_pca(adversaries, deltas, name):\n",
    "  embeddings_adversaries = []\n",
    "  embeddings_images = []\n",
    "  for image in adversaries:\n",
    "    embedding, *rest = a._model.vilt.embeddings.visual_embed(\n",
    "      image,\n",
    "      pixel_mask=torch.ones((1, a._model.vilt.config.image_size, a._model.vilt.config.image_size), device=device)\n",
    "  )\n",
    "    embeddings_adversaries.append(embedding.mean(dim=1).squeeze().detach().cpu().numpy())\n",
    "\n",
    "  for i, image in enumerate(adversaries):\n",
    "    embedding, *rest = a._model.vilt.embeddings.visual_embed(\n",
    "      image - deltas[i],\n",
    "      pixel_mask=torch.ones((1, a._model.vilt.config.image_size, a._model.vilt.config.image_size), device=device)\n",
    "  )\n",
    "    embeddings_images.append(embedding.mean(dim=1).squeeze().detach().cpu().numpy())\n",
    "\n",
    "\n",
    "\n",
    "  # Generate random high-dimensional data (50 points, each with 10 features)\n",
    "  data = np.array(embeddings_images)\n",
    "\n",
    "  # Perform PCA\n",
    "  pca = PCA(n_components=2)\n",
    "  pca_result = pca.fit_transform(data)\n",
    "  pca_adv = pca_result\n",
    "  pca_img = pca.transform(embeddings_adversaries)\n",
    "\n",
    "  # Plot explained variance ratio\n",
    "  explained_variance_ratio = 100* pca.explained_variance_ratio_\n",
    "  size = 10\n",
    "  plt.scatter(pca_img[:, 0], pca_img[:, 1], color='green', s=size, label='Original')\n",
    "  plt.scatter(pca_adv[:, 0], pca_adv[:, 1], color='red', s=size, label='Adversaries')\n",
    "  plt.xlabel(f'PCA1 / Variance explained: {explained_variance_ratio[0]:.2f}%')\n",
    "  plt.ylabel(f'PCA2 / Variance explained: {explained_variance_ratio[1]:.2f}%')\n",
    "  plt.legend()\n",
    "  plt.title(f'Visual Embeddings of adversaries trained on {name}')\n",
    "  plt.tight_layout()\n",
    "  plt.savefig(f'{name}_embedding.png')\n",
    "  plt.show();\n"
   ]
  },
  {
   "cell_type": "code",
   "execution_count": null,
   "id": "dda14253-effb-4b4b-96f9-17a2f9df79fb",
   "metadata": {
    "colab": {
     "base_uri": "https://localhost:8080/",
     "height": 487
    },
    "id": "-jgr_fx4PAKz",
    "outputId": "ddfa7e13-11e1-4403-a0cf-8a0937534407"
   },
   "outputs": [],
   "source": [
    "plot_pca(adversaries_vilt, deltas_vilt, 'VILT')"
   ]
  },
  {
   "cell_type": "code",
   "execution_count": null,
   "id": "4a9d1974-7fa2-4f47-bf8d-9feeeb75068c",
   "metadata": {
    "colab": {
     "base_uri": "https://localhost:8080/",
     "height": 250
    },
    "id": "YQJ8INXHWlBe",
    "outputId": "3383592e-a08a-487a-f482-cda07e36ca4e"
   },
   "outputs": [],
   "source": [
    "embeddings_adv = []\n",
    "for image in adversaries_joint:\n",
    "  embedding, *rest = a._model.vilt.embeddings.visual_embed(\n",
    "    image,\n",
    "    pixel_mask=torch.ones((1, a._model.vilt.config.image_size, a._model.vilt.config.image_size), device=device)\n",
    ")\n",
    "  embeddings_adv.append(embedding.mean(dim=1).squeeze().detach().cpu().numpy())\n",
    "\n",
    "embeddings_img = []\n",
    "for i, image in enumerate(adversaries):\n",
    "  embedding, *rest = a._model.vilt.embeddings.visual_embed(\n",
    "    image - deltas[i],\n",
    "    pixel_mask=torch.ones((1, a._model.vilt.config.image_size, a._model.vilt.config.image_size), device=device)\n",
    ")\n",
    "  embeddings_img.append(embedding.mean(dim=1).squeeze().detach().cpu().numpy())"
   ]
  },
  {
   "cell_type": "code",
   "execution_count": null,
   "id": "cc87cb49-10ad-4041-b095-106596c4aeb3",
   "metadata": {
    "colab": {
     "base_uri": "https://localhost:8080/",
     "height": 448
    },
    "id": "5JRrOXaBERSt",
    "outputId": "0f57c38b-bb2f-4629-efb4-14673d4cbd94"
   },
   "outputs": [],
   "source": [
    "\n",
    "\n",
    "# Generate random high-dimensional data (50 points, each with 10 features)\n",
    "\n",
    "data = np.array(embeddings_adv + embeddings_img)\n",
    "\n",
    "# Perform PCA\n",
    "pca = PCA(n_components=2)\n",
    "pca_result = pca.fit_transform(data)\n",
    "pca_adv = pca_result[:len(embeddings_adv)]\n",
    "pca_img = pca_result[len(embeddings_adv):]\n",
    "\n",
    "# Plot explained variance ratio\n",
    "explained_variance_ratio = pca.explained_variance_ratio_\n",
    "cumulative_variance_ratio = np.cumsum(explained_variance_ratio)\n",
    "x_values = np.arange(1, len(cumulative_variance_ratio) + 1)\n",
    "\n",
    "plt.scatter(pca_adv[:, 0], pca_adv[:, 1])\n",
    "plt.scatter(pca_img[:, 0], pca_img[:, 1], color='red')"
   ]
  },
  {
   "cell_type": "code",
   "execution_count": null,
   "id": "2e7b5f07-c967-495b-aa87-9c27ccee5025",
   "metadata": {
    "colab": {
     "base_uri": "https://localhost:8080/",
     "height": 452
    },
    "id": "L3M75f8KG6ka",
    "outputId": "55c80232-ddd8-4971-b559-3d6ce97366bd"
   },
   "outputs": [],
   "source": [
    "fig, ax = plt.subplots(1, 2)\n",
    "\n",
    "for weight_decay in [1e-5, 1e-4, 1e-3]:\n",
    "  a_loss = [_[0] for _ in loss_trajectories[weight_decay]]\n",
    "  b_loss = [_[1] for _ in loss_trajectories[weight_decay]]\n",
    "  ax[0].plot(a_loss, label=f'$\\lambda = $ {weight_decay}')\n",
    "  ax[1].plot(b_loss, label=f'$\\lambda = $ {weight_decay}')\n",
    "\n",
    "ax[0].legend()\n",
    "ax[1].legend()"
   ]
  }
 ],
 "metadata": {
  "kernelspec": {
   "display_name": "Python 3",
   "language": "python",
   "name": "python3"
  },
  "language_info": {
   "codemirror_mode": {
    "name": "ipython",
    "version": 3
   },
   "file_extension": ".py",
   "mimetype": "text/x-python",
   "name": "python",
   "nbconvert_exporter": "python",
   "pygments_lexer": "ipython3",
   "version": "3.8.8"
  }
 },
 "nbformat": 4,
 "nbformat_minor": 5
}
